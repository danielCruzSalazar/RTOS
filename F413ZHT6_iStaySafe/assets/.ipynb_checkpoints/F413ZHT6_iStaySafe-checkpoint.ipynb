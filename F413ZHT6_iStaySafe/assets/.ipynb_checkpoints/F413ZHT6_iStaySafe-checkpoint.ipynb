{
 "cells": [
  {
   "cell_type": "markdown",
   "id": "VtECoCggrYR4",
   "metadata": {
    "id": "VtECoCggrYR4"
   },
   "source": [
    "| Project name   |  iStaySafe |\n",
    "|:----------|:-------------|\n",
    "| **Autor(S)**| T031044, Daniel Alejandro Cruz Salazar<br>T033055, Jorge Tomas Araujo Gonzales<br> T034226, Luis Mario Ventura Parra |\n",
    "| **Editor**|Dr. Adán Hirales Carbajal|\n",
    "| **Last update** | 10/23/2022 |"
   ]
  },
  {
   "cell_type": "markdown",
   "id": "GDvJAZxvrYSK",
   "metadata": {
    "id": "GDvJAZxvrYSK"
   },
   "source": [
    "### <span style=\"color:blue\">Problem statement</span>\n",
    "\n",
    "It seeks to generate awareness about health and the excessive consumption of alcoholic substances in people of all ages. It is common to go out to parties on weekends and consume some type of alcoholic beverage. So the iStaySafe allows us to have a more exact control over our vital signs and if it is a good time to stop drinking. In the same way, it seeks to have a total monitoring in terms of heart rate and blood oxygenation, trying to prevent any accident at any time of the day. All this through the connection of the STM32F4ZHT6 card and various sensors that will communicate with a web server, obtaining data and averages.\n",
    "\n",
    "As mentioned before, a mutual connection between the STM34F4ZHT6 card and the sensors is needed. Therefore, various input and output ports will be needed to communicate the data obtained between the sensors, card and web server, where said data will be processed to generate a specific analysis of each situation to be presented. The connection through the web server will undoubtedly be the one that represents the most complexity, since we have not had the opportunity to work on something like it and an arduous investigation is needed. The other sensors will be installed based on a data sheet, where various information about connections, ports, input and output voltages, among others, is obtained.\n"
   ]
  },
  {
   "cell_type": "markdown",
   "id": "FHu4mtS7rYSN",
   "metadata": {
    "id": "FHu4mtS7rYSN"
   },
   "source": [
    "### <span style=\"color:blue\">Hardware requirements</span>\n",
    "\n",
    "\n",
    "|Component|Quantity|Characteristics|Component|\n",
    "|:---|:---|:-----|:---:|\n",
    "|STM32 f413ZHT6|1| Development board|<img src=\"../img/stm32.jpg\" alt=\"SIPO\" width=\"150\" eight=\"150\">|\n",
    "|ESP32|1|  Wi-Fi communication module |<img src=\"../img/esp32.jpg\" alt=\"SIPO\" width=\"150\" eight=\"150\">|\n",
    "|ULPSM-Ethanol 968-007|1| Ultra-Low Power Analog Sensor Module for Ethanol|<img src=\"../img/ethanol.jpg\" alt=\"PISO\" width=\"200\" height=\"200\">|\n",
    "|KY-039|1|Heartbeat sensor module|<img src=\"..\\img\\ky_039.png\" alt=\"PISO\" width=\"100\" height=\"100\">|\n",
    "\n",
    "\n"
   ]
  },
  {
   "cell_type": "markdown",
   "id": "l3L59qlWrYSR",
   "metadata": {
    "id": "l3L59qlWrYSR"
   },
   "source": [
    "### <span style=\"color:blue\">hardware schematic</span>\n",
    "\n",
    "<center>\n",
    "<img class=\"large-image\" width=\"350\" height=\"350\" src=\"../img/schematic.png\" />\n",
    "</center>"
   ]
  },
  {
   "cell_type": "markdown",
   "id": "jpuqjeH4rYSS",
   "metadata": {
    "id": "jpuqjeH4rYSS"
   },
   "source": [
    "### <span style=\"color:blue\">Hardware layout</span>\n",
    "\n",
    "| | |\n",
    "|:--:|:--:|\n",
    "|<img class=\"large-image\" width=\"60\" height=\"60\" src=\"../img/installed.jfif\" alt=\"Installed hardware\"/>|<img class=\"large-image\" width=\"60\" height=\"60\" src=\"../img/2nd.jfif\" alt=\"2nd\"/>|\n",
    "|Installed hardware |Connection between the STM32 controller and the ESP 32 microcontroller (wifi module)|\n",
    "|<img class=\"large-image\" width=\"60\" height=\"60\" src=\"../img/3rd.jfif\" alt=\"3rd\"/>|<img class=\"large-image\" width=\"60\" height=\"60\" src=\"../img/4th.jfif\" alt=\"4th\"/>|\n",
    "|Heart rate sensor power supply and connection to the STM32 controller|Connection of the ULPSM-EtOH sensor to the STM32 controller in conjunction with the pulse sensor and the ESP32 microcontroller.\n",
    "\n"
   ]
  },
  {
   "cell_type": "markdown",
   "id": "fqEH0PPdrYSU",
   "metadata": {
    "id": "fqEH0PPdrYSU"
   },
   "source": [
    "### <span style=\"color:blue\">CubeMX parameters</span>\n",
    "\n",
    "\n",
    "Project specification\n",
    "\n",
    "<table class=\"tg\">\n",
    "  <caption>Table III. Solution 1 specification</caption>\n",
    "  <tr>\n",
    "      <th class=\"tg-fymr\" colspan=\"2\"><b>Class</b></th>\n",
    "      <th class=\"tg-fymr\" colspan=\"2\"><b>Attribute</b></th>\n",
    "    <th class=\"tg-fymr\" colspan=\"3\"><b>Value</b></th>\n",
    "  </tr>\n",
    "  <tr>\n",
    "    <td class=\"tg-c3ow\" colspan=\"2\"><b>Project</b></td>\n",
    "    <td class=\"tg-c3ow\" colspan=\"2\">Name</td>\n",
    "    <td class=\"tg-c3ow\" colspan=\"3\">F413ZHT6_iStaySafe</td>\n",
    "  </tr>\n",
    "  <tr>\n",
    "    <td class=\"tg-c3ow\" colspan=\"2\"></td>\n",
    "    <td class=\"tg-c3ow\" colspan=\"2\">Clock</td>\n",
    "    <td class=\"tg-c3ow\" colspan=\"3\">16Mhz</td>\n",
    "  </tr>\n",
    "  <tr>\n",
    "      <td class=\"tg-c3ow\" colspan=\"2\"><b>STM32 Pin</b></td>\n",
    "    <td class=\"tg-c3ow\" colspan=\"2\">PA0, PA1</td>\n",
    "    <td class=\"tg-c3ow\" colspan=\"3\"></td>\n",
    "  </tr>\n",
    "  <tr>\n",
    "    <td class=\"tg-c3ow\" colspan=\"2\"><b>Analog</b></td>\n",
    "     <td class=\"tg-c3ow\" colspan=\"2\">ADC1</td>\n",
    "    <td class=\"tg-c3ow\" colspan=\"3\">IN1,IN2</td>\n",
    "  </tr>\n",
    "  <tr>\n",
    "    <td class=\"tg-c3ow\" colspan=\"2\"></td>\n",
    "    <td class=\"tg-c3ow\" colspan=\"2\">Continuous Conversion</td>\n",
    "    <td class=\"tg-c3ow\" colspan=\"3\">Enabled</td>\n",
    "  </tr>\n",
    " <tr>\n",
    "    <td class=\"tg-fymr\"><b>Task/interrupt</b></td>\n",
    "    <td class=\"tg-fymr\"><b>Type</b></td>\n",
    "    <td class=\"tg-fymr\"><b>Name</b></td>\n",
    "    <td class=\"tg-fymr\"><b>Entry function</b></td>\n",
    "    <td class=\"tg-fymr\"><b>$w_j$</b></td>\n",
    "    <td class=\"tg-fymr\"><b>$p_j$</b></td>\n",
    "    <td class=\"tg-fymr\"><b>Port</b></td>\n",
    "  </tr>\n",
    "  <tr>\n",
    "      <td class=\"tg-fymr\">1</td>\n",
    "      <td class=\"tg-fymr\">Periodic</td>\n",
    "      <td class=\"tg-fymr\">Analog Read</td>\n",
    "      <td class=\"tg-fymr\">taskAnalogRead</td>\n",
    "      <td class=\"tg-fymr\">osPriorityNormal</td>\n",
    "      <td class=\"tg-fymr\"></td>\n",
    "      <td class=\"tg-fymr\">PA0</td>\n",
    "    </tr>\n",
    "  <tr>\n",
    "      <td class=\"tg-fymr\">2</td>\n",
    "      <td class=\"tg-fymr\">Periodic</td>\n",
    "      <td class=\"tg-fymr\">Analog Read</td>\n",
    "      <td class=\"tg-fymr\">taskAnalogRead</td>\n",
    "      <td class=\"tg-fymr\">osPriorityNormal</td>\n",
    "      <td class=\"tg-fymr\"></td>\n",
    "      <td class=\"tg-fymr\">PA1</td>\n",
    "   </tr>\n",
    "</table>\n",
    "\n"
   ]
  },
  {
   "cell_type": "markdown",
   "id": "uCRuYt0mrYSZ",
   "metadata": {
    "id": "uCRuYt0mrYSZ"
   },
   "source": [
    "### <span style=\"color:blue\">Software components</span>"
   ]
  },
  {
   "cell_type": "markdown",
   "id": "VY8GUZ7FrYSa",
   "metadata": {
    "id": "VY8GUZ7FrYSa"
   },
   "source": [
    "This section contains the following diagrams:\n",
    "<ul>\n",
    "    <li> static diagram</li>\n",
    "    <li> Colab diagram</li>\n",
    "</ul>\n",
    "\n",
    "#### Static Diagram\n",
    "<img src=\"../img/static.png\" alt=\"SIPO\">\n",
    "\n",
    "\n",
    "#### Colab Diagram\n",
    "<img src=\"../img/colab.png\" alt=\"SIPO\">"
   ]
  },
  {
   "cell_type": "markdown",
   "id": "UKVjpONfrYSi",
   "metadata": {
    "id": "UKVjpONfrYSi"
   },
   "source": [
    "### <span style=\"color:blue\">Software components</span>\n",
    "\n",
    "- Reference to component schematics in PDF\n",
    "- Other bibliographic resources"
   ]
  }
 ],
 "metadata": {
  "colab": {
   "provenance": []
  },
  "kernelspec": {
   "display_name": "Python 3 (ipykernel)",
   "language": "python",
   "name": "python3"
  },
  "language_info": {
   "codemirror_mode": {
    "name": "ipython",
    "version": 3
   },
   "file_extension": ".py",
   "mimetype": "text/x-python",
   "name": "python",
   "nbconvert_exporter": "python",
   "pygments_lexer": "ipython3",
   "version": "3.10.6"
  }
 },
 "nbformat": 4,
 "nbformat_minor": 5
}
